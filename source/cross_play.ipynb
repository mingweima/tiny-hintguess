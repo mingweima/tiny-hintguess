{
 "cells": [
  {
   "cell_type": "code",
   "execution_count": 1,
   "metadata": {
    "tags": []
   },
   "outputs": [],
   "source": [
    "import numpy as np\n",
    "import pandas as pd\n",
    "import _pickle as cPickle\n",
    "import os\n",
    "import torch\n",
    "import seaborn as sns\n",
    "\n",
    "from game import TinyHintGuessGame\n",
    "from agent import QAgent"
   ]
  },
  {
   "cell_type": "code",
   "execution_count": 2,
   "metadata": {},
   "outputs": [
    {
     "name": "stdout",
     "output_type": "stream",
     "text": [
      "file loaded! model count: 15\n"
     ]
    }
   ],
   "source": [
    "# append results to list\n",
    "\n",
    "model_name = 'ActionIn-one_hot-1-15-3'\n",
    "\n",
    "res_list = []\n",
    "for res_folder in sorted(list(os.walk('../res'))[0][1]):\n",
    "    if res_folder.startswith(model_name):\n",
    "        try:\n",
    "            with open(f'../res/{res_folder}/1000000.pkl', 'rb') as fp: \n",
    "                res = cPickle.load(fp)\n",
    "                res_list.append(res)\n",
    "        except FileNotFoundError:\n",
    "                print(f\"no pickle found for {res_folder}!\")\n",
    "print(f'file loaded! model count: {len(res_list)}')"
   ]
  },
  {
   "cell_type": "code",
   "execution_count": 3,
   "metadata": {},
   "outputs": [],
   "source": [
    "res_list = res_list[:15]"
   ]
  },
  {
   "cell_type": "code",
   "execution_count": 4,
   "metadata": {},
   "outputs": [],
   "source": [
    "def sample_games(hinter, guesser, samples=100, print_games=False, env=None):\n",
    "    r_list = []\n",
    "    if not env:\n",
    "        env = hinter.env\n",
    "    for _ in range(samples):\n",
    "        obs_to_hinter = env.reset()\n",
    "        hint_action = hinter.select_action(torch.tensor(obs_to_hinter, device=hinter.device))\n",
    "        obs_to_guesser, _, _, _ = env.step(hint_action.item())\n",
    "        guess_action = guesser.select_action(torch.tensor(obs_to_guesser, device=hinter.device))\n",
    "        _, r, _, _ = env.step(guess_action)\n",
    "        r_list += [r]\n",
    "        if print_games:\n",
    "            print(env.h1, env.h2, \"target:\", env.target, \"hint\", env.hint, \"guess\", env.guess, r)\n",
    "    r_list = np.array(r_list)\n",
    "    return np.sum(np.array(r_list) >= 0, axis=0) / r_list.shape[0]\n",
    "    \n",
    "def cross_play(res_list, samples=100):\n",
    "    group_size = len(res_list)\n",
    "    score_array = np.zeros((group_size, group_size))\n",
    "    for i in range(group_size):\n",
    "        for j in range(group_size):\n",
    "            p1 = res_list[i]['p1']\n",
    "            p2 = res_list[j]['p2']\n",
    "            score_array[i][j] = sample_games(p1, p2, samples = samples)\n",
    "            print(i, j, \"score:\", score_array[i][j])\n",
    "    return score_array"
   ]
  },
  {
   "cell_type": "code",
   "execution_count": 5,
   "metadata": {},
   "outputs": [
    {
     "name": "stdout",
     "output_type": "stream",
     "text": [
      "0 0 score: 0.59\n",
      "0 1 score: 0.31\n",
      "0 2 score: 0.4\n",
      "0 3 score: 0.38\n",
      "0 4 score: 0.38\n",
      "0 5 score: 0.41\n",
      "0 6 score: 0.42\n",
      "0 7 score: 0.32\n",
      "0 8 score: 0.39\n",
      "0 9 score: 0.36\n",
      "0 10 score: 0.33\n",
      "0 11 score: 0.38\n",
      "0 12 score: 0.41\n",
      "0 13 score: 0.42\n",
      "0 14 score: 0.44\n",
      "1 0 score: 0.38\n",
      "1 1 score: 0.72\n",
      "1 2 score: 0.37\n",
      "1 3 score: 0.41\n",
      "1 4 score: 0.45\n",
      "1 5 score: 0.32\n",
      "1 6 score: 0.34\n",
      "1 7 score: 0.25\n",
      "1 8 score: 0.3\n",
      "1 9 score: 0.36\n",
      "1 10 score: 0.39\n",
      "1 11 score: 0.37\n",
      "1 12 score: 0.37\n",
      "1 13 score: 0.33\n",
      "1 14 score: 0.46\n",
      "2 0 score: 0.34\n",
      "2 1 score: 0.4\n",
      "2 2 score: 0.52\n",
      "2 3 score: 0.47\n",
      "2 4 score: 0.42\n",
      "2 5 score: 0.38\n",
      "2 6 score: 0.34\n",
      "2 7 score: 0.36\n",
      "2 8 score: 0.37\n",
      "2 9 score: 0.33\n",
      "2 10 score: 0.53\n",
      "2 11 score: 0.32\n",
      "2 12 score: 0.37\n",
      "2 13 score: 0.38\n",
      "2 14 score: 0.33\n",
      "3 0 score: 0.37\n",
      "3 1 score: 0.46\n",
      "3 2 score: 0.41\n",
      "3 3 score: 0.65\n",
      "3 4 score: 0.34\n",
      "3 5 score: 0.34\n",
      "3 6 score: 0.31\n",
      "3 7 score: 0.44\n",
      "3 8 score: 0.45\n",
      "3 9 score: 0.39\n",
      "3 10 score: 0.44\n",
      "3 11 score: 0.41\n",
      "3 12 score: 0.37\n",
      "3 13 score: 0.37\n",
      "3 14 score: 0.34\n",
      "4 0 score: 0.41\n",
      "4 1 score: 0.35\n",
      "4 2 score: 0.45\n",
      "4 3 score: 0.31\n",
      "4 4 score: 0.5\n",
      "4 5 score: 0.42\n",
      "4 6 score: 0.29\n",
      "4 7 score: 0.35\n",
      "4 8 score: 0.37\n",
      "4 9 score: 0.36\n",
      "4 10 score: 0.37\n",
      "4 11 score: 0.36\n",
      "4 12 score: 0.34\n",
      "4 13 score: 0.4\n",
      "4 14 score: 0.35\n",
      "5 0 score: 0.45\n",
      "5 1 score: 0.34\n",
      "5 2 score: 0.47\n",
      "5 3 score: 0.3\n",
      "5 4 score: 0.37\n",
      "5 5 score: 0.66\n",
      "5 6 score: 0.38\n",
      "5 7 score: 0.39\n",
      "5 8 score: 0.37\n",
      "5 9 score: 0.33\n",
      "5 10 score: 0.4\n",
      "5 11 score: 0.51\n",
      "5 12 score: 0.31\n",
      "5 13 score: 0.35\n",
      "5 14 score: 0.41\n",
      "6 0 score: 0.4\n",
      "6 1 score: 0.28\n",
      "6 2 score: 0.45\n",
      "6 3 score: 0.37\n",
      "6 4 score: 0.4\n",
      "6 5 score: 0.37\n",
      "6 6 score: 0.66\n",
      "6 7 score: 0.44\n",
      "6 8 score: 0.45\n",
      "6 9 score: 0.43\n",
      "6 10 score: 0.36\n",
      "6 11 score: 0.41\n",
      "6 12 score: 0.35\n",
      "6 13 score: 0.37\n",
      "6 14 score: 0.36\n",
      "7 0 score: 0.4\n",
      "7 1 score: 0.33\n",
      "7 2 score: 0.4\n",
      "7 3 score: 0.42\n",
      "7 4 score: 0.43\n",
      "7 5 score: 0.34\n",
      "7 6 score: 0.36\n",
      "7 7 score: 0.55\n",
      "7 8 score: 0.35\n",
      "7 9 score: 0.44\n",
      "7 10 score: 0.29\n",
      "7 11 score: 0.42\n",
      "7 12 score: 0.38\n",
      "7 13 score: 0.4\n",
      "7 14 score: 0.37\n",
      "8 0 score: 0.43\n",
      "8 1 score: 0.3\n",
      "8 2 score: 0.36\n",
      "8 3 score: 0.44\n",
      "8 4 score: 0.5\n",
      "8 5 score: 0.3\n",
      "8 6 score: 0.43\n",
      "8 7 score: 0.2\n",
      "8 8 score: 0.52\n",
      "8 9 score: 0.41\n",
      "8 10 score: 0.5\n",
      "8 11 score: 0.51\n",
      "8 12 score: 0.4\n",
      "8 13 score: 0.32\n",
      "8 14 score: 0.3\n",
      "9 0 score: 0.4\n",
      "9 1 score: 0.39\n",
      "9 2 score: 0.48\n",
      "9 3 score: 0.33\n",
      "9 4 score: 0.35\n",
      "9 5 score: 0.4\n",
      "9 6 score: 0.34\n",
      "9 7 score: 0.33\n",
      "9 8 score: 0.34\n",
      "9 9 score: 0.61\n",
      "9 10 score: 0.37\n",
      "9 11 score: 0.38\n",
      "9 12 score: 0.43\n",
      "9 13 score: 0.37\n",
      "9 14 score: 0.32\n",
      "10 0 score: 0.3\n",
      "10 1 score: 0.34\n",
      "10 2 score: 0.48\n",
      "10 3 score: 0.27\n",
      "10 4 score: 0.4\n",
      "10 5 score: 0.38\n",
      "10 6 score: 0.41\n",
      "10 7 score: 0.35\n",
      "10 8 score: 0.46\n",
      "10 9 score: 0.36\n",
      "10 10 score: 0.65\n",
      "10 11 score: 0.51\n",
      "10 12 score: 0.31\n",
      "10 13 score: 0.37\n",
      "10 14 score: 0.38\n",
      "11 0 score: 0.36\n",
      "11 1 score: 0.33\n",
      "11 2 score: 0.32\n",
      "11 3 score: 0.4\n",
      "11 4 score: 0.41\n",
      "11 5 score: 0.41\n",
      "11 6 score: 0.38\n",
      "11 7 score: 0.41\n",
      "11 8 score: 0.38\n",
      "11 9 score: 0.44\n",
      "11 10 score: 0.41\n",
      "11 11 score: 0.56\n",
      "11 12 score: 0.37\n",
      "11 13 score: 0.36\n",
      "11 14 score: 0.45\n",
      "12 0 score: 0.59\n",
      "12 1 score: 0.36\n",
      "12 2 score: 0.46\n",
      "12 3 score: 0.31\n",
      "12 4 score: 0.46\n",
      "12 5 score: 0.36\n",
      "12 6 score: 0.39\n",
      "12 7 score: 0.33\n",
      "12 8 score: 0.37\n",
      "12 9 score: 0.28\n",
      "12 10 score: 0.42\n",
      "12 11 score: 0.35\n",
      "12 12 score: 0.57\n",
      "12 13 score: 0.36\n",
      "12 14 score: 0.41\n",
      "13 0 score: 0.36\n",
      "13 1 score: 0.34\n",
      "13 2 score: 0.35\n",
      "13 3 score: 0.35\n",
      "13 4 score: 0.5\n",
      "13 5 score: 0.36\n",
      "13 6 score: 0.38\n",
      "13 7 score: 0.37\n",
      "13 8 score: 0.37\n",
      "13 9 score: 0.33\n",
      "13 10 score: 0.41\n",
      "13 11 score: 0.33\n",
      "13 12 score: 0.3\n",
      "13 13 score: 0.64\n",
      "13 14 score: 0.5\n",
      "14 0 score: 0.51\n",
      "14 1 score: 0.39\n",
      "14 2 score: 0.36\n",
      "14 3 score: 0.37\n",
      "14 4 score: 0.4\n",
      "14 5 score: 0.48\n",
      "14 6 score: 0.37\n",
      "14 7 score: 0.3\n",
      "14 8 score: 0.34\n",
      "14 9 score: 0.33\n",
      "14 10 score: 0.3\n",
      "14 11 score: 0.4\n",
      "14 12 score: 0.34\n",
      "14 13 score: 0.44\n",
      "14 14 score: 0.7\n"
     ]
    }
   ],
   "source": [
    "# %%time\n",
    "score_array = cross_play(res_list, samples=100)"
   ]
  },
  {
   "cell_type": "code",
   "execution_count": 11,
   "metadata": {},
   "outputs": [],
   "source": [
    "np.savetxt(f\"../{model_name}.csv\", score_array, delimiter=\",\")"
   ]
  },
  {
   "cell_type": "code",
   "execution_count": 89,
   "metadata": {},
   "outputs": [
    {
     "name": "stdout",
     "output_type": "stream",
     "text": [
      "sp 0.7353846153846153 sde 0.014209563602366049\n"
     ]
    }
   ],
   "source": [
    "print('sp', np.diagonal(score_array).mean(), 'sde', np.diagonal(score_array).std() / np.sqrt(score_array.shape[0]) )"
   ]
  },
  {
   "cell_type": "code",
   "execution_count": 90,
   "metadata": {},
   "outputs": [
    {
     "name": "stdout",
     "output_type": "stream",
     "text": [
      "xp 0.45711538461538465 sde 0.021457802575804163\n"
     ]
    }
   ],
   "source": [
    "off_diag_scores = np.ma.array(score_array, mask=False)\n",
    "off_diag_scores.mask[np.diag_indices(score_array.shape[0])] = True\n",
    "print('xp', off_diag_scores.mean(), 'sde', off_diag_scores.std() / np.sqrt(off_diag_scores.shape[0] * (off_diag_scores.shape[0]-1) ))"
   ]
  },
  {
   "cell_type": "code",
   "execution_count": 91,
   "metadata": {},
   "outputs": [
    {
     "data": {
      "text/plain": [
       "<AxesSubplot:>"
      ]
     },
     "execution_count": 91,
     "metadata": {},
     "output_type": "execute_result"
    },
    {
     "data": {
      "image/png": "[encoded data removed]",
      "text/plain": [
       "<Figure size 432x288 with 2 Axes>"
      ]
     },
     "metadata": {
      "needs_background": "light"
     },
     "output_type": "display_data"
    }
   ],
   "source": [
    "sns.heatmap(score_array, cmap=\"BuPu\", vmin=0, vmax=1)"
   ]
  },
  {
   "cell_type": "code",
   "execution_count": 95,
   "metadata": {},
   "outputs": [
    {
     "name": "stdout",
     "output_type": "stream",
     "text": [
      "[ 4 12  5] [ 6 13 11] target: 6 hint 12 guess 6 10.0\n",
      "[ 6 10 13] [4 4 5] target: 4 hint 13 guess 4 10.0\n",
      "[ 7  2 11] [ 2 10  8] target: 10 hint 2 guess 10 10.0\n",
      "[12  0 10] [0 8 5] target: 8 hint 0 guess 8 10.0\n",
      "[ 8 13  8] [11  9  9] target: 9 hint 13 guess 11 -10.0\n",
      "[14 10  8] [ 1  4 12] target: 12 hint 8 guess 12 10.0\n",
      "[ 0 10  9] [8 1 7] target: 7 hint 9 guess 7 10.0\n",
      "[12 10  8] [1 2 3] target: 3 hint 8 guess 3 10.0\n",
      "[ 6 12 13] [5 1 8] target: 8 hint 6 guess 8 10.0\n",
      "[10  8  0] [ 6 11  2] target: 11 hint 0 guess 11 10.0\n",
      "[11 14 11] [11  7 12] target: 11 hint 11 guess 11 10.0\n",
      "[ 0 12 12] [2 7 5] target: 2 hint 12 guess 2 10.0\n",
      "[ 4  3 10] [3 9 4] target: 3 hint 10 guess 3 10.0\n",
      "[2 2 6] [14 14 12] target: 14 hint 2 guess 12 -10.0\n",
      "[ 0  2 10] [ 0  0 10] target: 0 hint 10 guess 0 10.0\n",
      "[10  1  4] [9 8 0] target: 0 hint 10 guess 0 10.0\n",
      "[ 6  3 10] [13 10  3] target: 10 hint 6 guess 10 10.0\n",
      "[ 6  0 14] [ 9 12 12] target: 12 hint 0 guess 12 10.0\n",
      "[2 8 5] [ 6 14  6] target: 6 hint 5 guess 6 10.0\n",
      "[ 5 10 14] [ 1 14  5] target: 1 hint 14 guess 1 10.0\n"
     ]
    },
    {
     "data": {
      "text/plain": [
       "0.9"
      ]
     },
     "execution_count": 95,
     "metadata": {},
     "output_type": "execute_result"
    }
   ],
   "source": [
    "sample_games(res_list[0]['p1'], res_list[0]['p2'], samples=20, print_games=True)"
   ]
  },
  {
   "cell_type": "code",
   "execution_count": null,
   "metadata": {},
   "outputs": [],
   "source": []
  }
 ],
 "metadata": {
  "kernelspec": {
   "display_name": "Python 3 (ipykernel)",
   "language": "python",
   "name": "python3"
  },
  "language_info": {
   "codemirror_mode": {
    "name": "ipython",
    "version": 3
   },
   "file_extension": ".py",
   "mimetype": "text/x-python",
   "name": "python",
   "nbconvert_exporter": "python",
   "pygments_lexer": "ipython3",
   "version": "3.7.11"
  }
 },
 "nbformat": 4,
 "nbformat_minor": 4
}
