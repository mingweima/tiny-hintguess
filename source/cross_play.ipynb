{
 "cells": [
  {
   "cell_type": "code",
   "execution_count": 1,
   "metadata": {
    "tags": []
   },
   "outputs": [],
   "source": [
    "import numpy as np\n",
    "import pandas as pd\n",
    "import _pickle as cPickle\n",
    "import os\n",
    "import torch\n",
    "import seaborn as sns\n",
    "\n",
    "from game import TinyHintGuessGame\n",
    "from agent import DQNAgent"
   ]
  },
  {
   "cell_type": "code",
   "execution_count": 2,
   "metadata": {},
   "outputs": [],
   "source": [
    "# append results to list\n",
    "\n",
    "model_name = 'ActionIn-sin-5-3'\n",
    "\n",
    "res_list = []\n",
    "for res_folder in list(os.walk('../res'))[0][1]:\n",
    "    if res_folder.startswith(model_name):\n",
    "        with open(f'../res/{res_folder}/300.pkl', 'rb') as fp:\n",
    "            res = cPickle.load(fp)\n",
    "            res_list.append(res)"
   ]
  },
  {
   "cell_type": "code",
   "execution_count": 3,
   "metadata": {},
   "outputs": [],
   "source": [
    "def sample_games(hinter, guesser, samples=100, print_games=False, env=None):\n",
    "    r_list = []\n",
    "    if not env:\n",
    "        env = hinter.env\n",
    "    for i_episode in range(samples):\n",
    "        obs_to_hinter = env.reset()\n",
    "        hint_action = hinter.select_action(torch.tensor(obs_to_hinter, device=hinter.device))\n",
    "        obs_to_guesser, _, _, _ = env.step(hint_action.item())\n",
    "        guess_action = guesser.select_action(torch.tensor(obs_to_guesser, device=hinter.device))\n",
    "        _, r, _, _ = env.step(guess_action)\n",
    "        r_list += [r]\n",
    "        if print_games:\n",
    "            print(env.h1, env.h2, env.target, env.hint, r)\n",
    "    r_list = np.array(r_list)\n",
    "    return np.sum(np.array(r_list) >= 0, axis=0) / r_list.shape[0]\n",
    "    \n",
    "def cross_play(res_list, samples=100):\n",
    "    group_size = len(res_list)\n",
    "    score_array = np.zeros((group_size, group_size))\n",
    "    for i in range(group_size):\n",
    "        for j in range(group_size):\n",
    "            p1 = res_list[i]['p1']\n",
    "            p2 = res_list[j]['p2']\n",
    "            score_array[i][j] = sample_games(p1, p2, samples = samples)\n",
    "    return score_array"
   ]
  },
  {
   "cell_type": "code",
   "execution_count": 4,
   "metadata": {},
   "outputs": [
    {
     "name": "stdout",
     "output_type": "stream",
     "text": [
      "CPU times: user 865 ms, sys: 31.2 ms, total: 896 ms\n",
      "Wall time: 891 ms\n"
     ]
    }
   ],
   "source": [
    "%%time\n",
    "score_array = cross_play(res_list, samples=100)"
   ]
  },
  {
   "cell_type": "code",
   "execution_count": 5,
   "metadata": {},
   "outputs": [],
   "source": [
    "np.savetxt(f\"../{model_name}.csv\", score_array, delimiter=\",\")"
   ]
  },
  {
   "cell_type": "code",
   "execution_count": 6,
   "metadata": {},
   "outputs": [
    {
     "data": {
      "text/plain": [
       "<AxesSubplot:>"
      ]
     },
     "execution_count": 6,
     "metadata": {},
     "output_type": "execute_result"
    },
    {
     "data": {
      "image/png": "[encoded data removed]",
      "text/plain": [
       "<Figure size 432x288 with 2 Axes>"
      ]
     },
     "metadata": {
      "needs_background": "light"
     },
     "output_type": "display_data"
    }
   ],
   "source": [
    "sns.heatmap(score_array)"
   ]
  },
  {
   "cell_type": "code",
   "execution_count": 7,
   "metadata": {},
   "outputs": [
    {
     "name": "stdout",
     "output_type": "stream",
     "text": [
      "[2 4 0] [0 1 0] 0 0 10.0\n",
      "[3 1 2] [0 4 2] 2 2 -10.0\n",
      "[2 4 2] [0 0 2] 0 4 10.0\n",
      "[0 0 0] [3 3 0] 3 0 -10.0\n",
      "[0 4 3] [2 4 3] 2 0 10.0\n",
      "[2 3 1] [0 4 0] 4 2 10.0\n",
      "[3 0 0] [2 2 2] 2 3 10.0\n",
      "[1 2 3] [4 4 0] 4 2 10.0\n",
      "[0 3 3] [2 3 2] 3 3 -10.0\n",
      "[0 1 1] [0 4 1] 1 0 -10.0\n",
      "[3 3 3] [2 3 0] 2 3 -10.0\n",
      "[4 4 3] [3 4 4] 3 3 10.0\n",
      "[4 4 2] [4 1 2] 4 4 -10.0\n",
      "[4 1 3] [4 0 2] 2 4 -10.0\n",
      "[2 3 1] [2 1 4] 4 1 10.0\n",
      "[0 0 0] [2 2 2] 2 0 10.0\n",
      "[1 4 0] [1 4 1] 4 4 -10.0\n",
      "[3 2 0] [4 2 2] 2 2 -10.0\n",
      "[4 1 2] [3 2 4] 4 4 -10.0\n",
      "[1 1 4] [0 1 3] 0 4 -10.0\n"
     ]
    },
    {
     "data": {
      "text/plain": [
       "0.45"
      ]
     },
     "execution_count": 7,
     "metadata": {},
     "output_type": "execute_result"
    }
   ],
   "source": [
    "sample_games(res_list[0]['p1'], res_list[1]['p1'], samples=20, print_games=True)"
   ]
  },
  {
   "cell_type": "code",
   "execution_count": null,
   "metadata": {},
   "outputs": [],
   "source": []
  }
 ],
 "metadata": {
  "kernelspec": {
   "display_name": "Python 3 (ipykernel)",
   "language": "python",
   "name": "python3"
  },
  "language_info": {
   "codemirror_mode": {
    "name": "ipython",
    "version": 3
   },
   "file_extension": ".py",
   "mimetype": "text/x-python",
   "name": "python",
   "nbconvert_exporter": "python",
   "pygments_lexer": "ipython3",
   "version": "3.7.11"
  }
 },
 "nbformat": 4,
 "nbformat_minor": 4
}